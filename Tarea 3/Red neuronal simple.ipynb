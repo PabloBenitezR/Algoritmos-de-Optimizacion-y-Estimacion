{
 "cells": [
  {
   "cell_type": "code",
   "execution_count": 19,
   "metadata": {},
   "outputs": [
    {
     "name": "stdout",
     "output_type": "stream",
     "text": [
      "dict_keys(['__header__', '__version__', '__globals__', 'None', 'FlujoAgosto', 'FlujoDiciembre', 'FlujoJulio', 'FlujoJunio', 'FlujoNoviembre', 'FlujoOctubre', 'FlujoSeptiembre', '__function_workspace__'])\n"
     ]
    }
   ],
   "source": [
    "import scipy.io\n",
    "import numpy as np\n",
    "\n",
    "data = scipy.io.loadmat('Flujo2019.mat')\n",
    "\n",
    "# ver las variables\n",
    "print(data.keys())\n"
   ]
  },
  {
   "cell_type": "code",
   "execution_count": 23,
   "metadata": {},
   "outputs": [
    {
     "name": "stdout",
     "output_type": "stream",
     "text": [
      "None: (1,)\n",
      "FlujoAgosto: (1, 3965)\n",
      "FlujoDiciembre: (1, 3867)\n",
      "FlujoJulio: (1, 3969)\n",
      "FlujoJunio: (1, 1459)\n",
      "FlujoNoviembre: (1, 3775)\n",
      "FlujoOctubre: (1, 2363)\n",
      "FlujoSeptiembre: (1, 2362)\n"
     ]
    }
   ],
   "source": [
    "for key in data.keys():\n",
    "    if not key.startswith('__'):  \n",
    "        print(f\"{key}: {data[key].shape}\")\n"
   ]
  },
  {
   "cell_type": "code",
   "execution_count": 22,
   "metadata": {},
   "outputs": [],
   "source": [
    "flujo_julio = data['FlujoJulio'].flatten()\n",
    "flujo_agosto = data['FlujoAgosto'].flatten()\n",
    "flujo_septiembre = data['FlujoSeptiembre'].flatten()\n",
    "flujo_octubre = data['FlujoOctubre'].flatten()\n",
    "flujo_noviembre = data['FlujoNoviembre'].flatten()\n",
    "flujo_diciembre = data['FlujoDiciembre'].flatten()"
   ]
  },
  {
   "cell_type": "code",
   "execution_count": 24,
   "metadata": {},
   "outputs": [],
   "source": [
    "# normalizar los datos para la generación de la red \n",
    "min_length = min(len(flujo_julio), len(flujo_agosto), len(flujo_septiembre),\n",
    "                 len(flujo_octubre), len(flujo_noviembre), len(flujo_diciembre))\n",
    "\n",
    "flujo_julio = flujo_julio[:min_length]\n",
    "flujo_agosto = flujo_agosto[:min_length]\n",
    "flujo_septiembre = flujo_septiembre[:min_length]\n",
    "flujo_octubre = flujo_octubre[:min_length]\n",
    "flujo_noviembre = flujo_noviembre[:min_length]\n",
    "flujo_diciembre = flujo_diciembre[:min_length]\n"
   ]
  },
  {
   "cell_type": "markdown",
   "metadata": {},
   "source": [
    "Se considera una entrada $x$, una salida $y$"
   ]
  },
  {
   "cell_type": "code",
   "execution_count": 25,
   "metadata": {},
   "outputs": [],
   "source": [
    "X = np.column_stack((flujo_julio, flujo_agosto, flujo_septiembre, flujo_octubre, flujo_noviembre))\n",
    "Y = flujo_diciembre \n",
    "\n"
   ]
  },
  {
   "cell_type": "code",
   "execution_count": 26,
   "metadata": {},
   "outputs": [],
   "source": [
    "X = (X - np.min(X)) / (np.max(X) - np.min(X))\n",
    "Y = (Y - np.min(Y)) / (np.max(Y) - np.min(Y))\n"
   ]
  },
  {
   "cell_type": "markdown",
   "metadata": {},
   "source": [
    "La función sigmoide logística se define como\n",
    "\n",
    "$ \\sigma(z) = \\frac{1}{1 + e^{-z}} $\n",
    "\n",
    "La derivada es\n",
    "\n",
    "$ \\sigma'(z) = \\sigma(z) \\cdot (1 - \\sigma(z)) $"
   ]
  },
  {
   "cell_type": "code",
   "execution_count": 32,
   "metadata": {},
   "outputs": [
    {
     "name": "stdout",
     "output_type": "stream",
     "text": [
      "Valores NaN en Y: 2362\n"
     ]
    }
   ],
   "source": [
    "print(\"Valores NaN en Y:\", np.isnan(Y).sum())\n"
   ]
  },
  {
   "cell_type": "code",
   "execution_count": 33,
   "metadata": {},
   "outputs": [],
   "source": [
    "# Encontrar los índices donde Y es válido (no NaN)\n",
    "valid_indices = ~np.isnan(Y)\n",
    "\n",
    "# Filtrar X y Y para eliminar filas con NaN en Y\n",
    "X = X[valid_indices]\n",
    "Y = Y[valid_indices]\n"
   ]
  },
  {
   "cell_type": "code",
   "execution_count": 34,
   "metadata": {},
   "outputs": [
    {
     "name": "stdout",
     "output_type": "stream",
     "text": [
      "Valores NaN en Y: 0\n"
     ]
    }
   ],
   "source": [
    "print(\"Valores NaN en Y:\", np.isnan(Y).sum())"
   ]
  },
  {
   "cell_type": "code",
   "execution_count": 31,
   "metadata": {},
   "outputs": [
    {
     "name": "stdout",
     "output_type": "stream",
     "text": [
      "Min X: 0.0 Max X: 6.74\n",
      "Min Y: nan Max Y: nan\n",
      "Época 0, Pérdida: [nan nan nan nan nan]\n",
      "Época 100, Pérdida: [nan nan nan nan nan]\n",
      "Época 200, Pérdida: [nan nan nan nan nan]\n",
      "Época 300, Pérdida: [nan nan nan nan nan]\n",
      "Época 400, Pérdida: [nan nan nan nan nan]\n"
     ]
    },
    {
     "ename": "KeyboardInterrupt",
     "evalue": "",
     "output_type": "error",
     "traceback": [
      "\u001b[1;31m---------------------------------------------------------------------------\u001b[0m",
      "\u001b[1;31mKeyboardInterrupt\u001b[0m                         Traceback (most recent call last)",
      "Cell \u001b[1;32mIn[31], line 130\u001b[0m\n\u001b[0;32m    126\u001b[0m             \u001b[38;5;28mprint\u001b[39m(\u001b[38;5;124mf\u001b[39m\u001b[38;5;124m\"\u001b[39m\u001b[38;5;124mÉpoca \u001b[39m\u001b[38;5;132;01m{\u001b[39;00mepoch\u001b[38;5;132;01m}\u001b[39;00m\u001b[38;5;124m, Pérdida: \u001b[39m\u001b[38;5;132;01m{\u001b[39;00mtotal_loss\u001b[38;5;250m \u001b[39m\u001b[38;5;241m/\u001b[39m\u001b[38;5;250m \u001b[39m\u001b[38;5;28mlen\u001b[39m(X)\u001b[38;5;132;01m}\u001b[39;00m\u001b[38;5;124m\"\u001b[39m)\n\u001b[0;32m    128\u001b[0m \u001b[38;5;66;03m# ---------------------------------------\u001b[39;00m\n\u001b[0;32m    129\u001b[0m \u001b[38;5;66;03m# 🔹 13. ENTRENAR LA RED\u001b[39;00m\n\u001b[1;32m--> 130\u001b[0m \u001b[43mtrain\u001b[49m\u001b[43m(\u001b[49m\u001b[43mX\u001b[49m\u001b[43m,\u001b[49m\u001b[43m \u001b[49m\u001b[43mY\u001b[49m\u001b[43m,\u001b[49m\u001b[43m \u001b[49m\u001b[43mepochs\u001b[49m\u001b[38;5;241;43m=\u001b[39;49m\u001b[38;5;241;43m1000\u001b[39;49m\u001b[43m)\u001b[49m\n\u001b[0;32m    132\u001b[0m \u001b[38;5;66;03m# 🔹 14. HACER UNA PREDICCIÓN\u001b[39;00m\n\u001b[0;32m    133\u001b[0m test_value \u001b[38;5;241m=\u001b[39m np\u001b[38;5;241m.\u001b[39marray([[\u001b[38;5;241m0.3\u001b[39m, \u001b[38;5;241m0.4\u001b[39m, \u001b[38;5;241m0.5\u001b[39m, \u001b[38;5;241m0.6\u001b[39m, \u001b[38;5;241m0.7\u001b[39m]])  \u001b[38;5;66;03m# Valores normalizados\u001b[39;00m\n",
      "Cell \u001b[1;32mIn[31], line 123\u001b[0m, in \u001b[0;36mtrain\u001b[1;34m(X, Y, epochs)\u001b[0m\n\u001b[0;32m    121\u001b[0m     y_pred, a2, a4, a5, z2, z4, z5 \u001b[38;5;241m=\u001b[39m forward(x)\n\u001b[0;32m    122\u001b[0m     total_loss \u001b[38;5;241m+\u001b[39m\u001b[38;5;241m=\u001b[39m loss(y_real, y_pred)\n\u001b[1;32m--> 123\u001b[0m     \u001b[43mbackward\u001b[49m\u001b[43m(\u001b[49m\u001b[43mx\u001b[49m\u001b[43m,\u001b[49m\u001b[43m \u001b[49m\u001b[43my_real\u001b[49m\u001b[43m,\u001b[49m\u001b[43m \u001b[49m\u001b[43my_pred\u001b[49m\u001b[43m,\u001b[49m\u001b[43m \u001b[49m\u001b[43ma2\u001b[49m\u001b[43m,\u001b[49m\u001b[43m \u001b[49m\u001b[43ma4\u001b[49m\u001b[43m,\u001b[49m\u001b[43m \u001b[49m\u001b[43ma5\u001b[49m\u001b[43m,\u001b[49m\u001b[43m \u001b[49m\u001b[43mz2\u001b[49m\u001b[43m,\u001b[49m\u001b[43m \u001b[49m\u001b[43mz4\u001b[49m\u001b[43m,\u001b[49m\u001b[43m \u001b[49m\u001b[43mz5\u001b[49m\u001b[43m)\u001b[49m\n\u001b[0;32m    125\u001b[0m \u001b[38;5;28;01mif\u001b[39;00m epoch \u001b[38;5;241m%\u001b[39m \u001b[38;5;241m100\u001b[39m \u001b[38;5;241m==\u001b[39m \u001b[38;5;241m0\u001b[39m:\n\u001b[0;32m    126\u001b[0m     \u001b[38;5;28mprint\u001b[39m(\u001b[38;5;124mf\u001b[39m\u001b[38;5;124m\"\u001b[39m\u001b[38;5;124mÉpoca \u001b[39m\u001b[38;5;132;01m{\u001b[39;00mepoch\u001b[38;5;132;01m}\u001b[39;00m\u001b[38;5;124m, Pérdida: \u001b[39m\u001b[38;5;132;01m{\u001b[39;00mtotal_loss\u001b[38;5;250m \u001b[39m\u001b[38;5;241m/\u001b[39m\u001b[38;5;250m \u001b[39m\u001b[38;5;28mlen\u001b[39m(X)\u001b[38;5;132;01m}\u001b[39;00m\u001b[38;5;124m\"\u001b[39m)\n",
      "Cell \u001b[1;32mIn[31], line 100\u001b[0m, in \u001b[0;36mbackward\u001b[1;34m(x, y_real, y_pred, a2, a4, a5, z2, z4, z5)\u001b[0m\n\u001b[0;32m     97\u001b[0m d_z4 \u001b[38;5;241m=\u001b[39m d_a4 \u001b[38;5;241m*\u001b[39m sigmoid_derivative(z4)\n\u001b[0;32m     99\u001b[0m d_w2 \u001b[38;5;241m=\u001b[39m np\u001b[38;5;241m.\u001b[39mdot(x\u001b[38;5;241m.\u001b[39mT, d_z2)\n\u001b[1;32m--> 100\u001b[0m d_w4 \u001b[38;5;241m=\u001b[39m \u001b[43mnp\u001b[49m\u001b[38;5;241;43m.\u001b[39;49m\u001b[43mdot\u001b[49m\u001b[43m(\u001b[49m\u001b[43mx\u001b[49m\u001b[38;5;241;43m.\u001b[39;49m\u001b[43mT\u001b[49m\u001b[43m,\u001b[49m\u001b[43m \u001b[49m\u001b[43md_z4\u001b[49m\u001b[43m)\u001b[49m\n\u001b[0;32m    102\u001b[0m d_b2 \u001b[38;5;241m=\u001b[39m np\u001b[38;5;241m.\u001b[39msum(d_z2)\n\u001b[0;32m    103\u001b[0m d_b4 \u001b[38;5;241m=\u001b[39m np\u001b[38;5;241m.\u001b[39msum(d_z4)\n",
      "\u001b[1;31mKeyboardInterrupt\u001b[0m: "
     ]
    }
   ],
   "source": [
    "import numpy as np\n",
    "import scipy.io\n",
    "\n",
    "# 🔹 1. Cargar los datos desde el archivo .mat\n",
    "data = scipy.io.loadmat('Flujo2019.mat')\n",
    "\n",
    "# 🔹 2. Extraer y convertir en vectores 1D\n",
    "flujo_julio = data['FlujoJulio'].flatten()\n",
    "flujo_agosto = data['FlujoAgosto'].flatten()\n",
    "flujo_septiembre = data['FlujoSeptiembre'].flatten()\n",
    "flujo_octubre = data['FlujoOctubre'].flatten()\n",
    "flujo_noviembre = data['FlujoNoviembre'].flatten()\n",
    "flujo_diciembre = data['FlujoDiciembre'].flatten()\n",
    "\n",
    "# 🔹 3. Alinear los datos (cortar al menor tamaño disponible)\n",
    "min_length = min(len(flujo_julio), len(flujo_agosto), len(flujo_septiembre),\n",
    "                 len(flujo_octubre), len(flujo_noviembre), len(flujo_diciembre))\n",
    "\n",
    "flujo_julio = flujo_julio[:min_length]\n",
    "flujo_agosto = flujo_agosto[:min_length]\n",
    "flujo_septiembre = flujo_septiembre[:min_length]\n",
    "flujo_octubre = flujo_octubre[:min_length]\n",
    "flujo_noviembre = flujo_noviembre[:min_length]\n",
    "flujo_diciembre = flujo_diciembre[:min_length]\n",
    "\n",
    "# 🔹 4. Definir X (entrada) y Y (salida esperada)\n",
    "X = np.column_stack((flujo_julio, flujo_agosto, flujo_septiembre, flujo_octubre, flujo_noviembre))\n",
    "Y = flujo_diciembre  # Queremos predecir diciembre basado en meses anteriores\n",
    "\n",
    "# 🔹 5. Normalizar los datos\n",
    "X_min, X_max = np.min(X), np.max(X)\n",
    "Y_min, Y_max = np.min(Y), np.max(Y)\n",
    "\n",
    "X = (X - X_min) / (X_max - X_min)\n",
    "Y = (Y - Y_min) / (Y_max - Y_min)\n",
    "\n",
    "print(\"Min X:\", X_min, \"Max X:\", X_max)\n",
    "print(\"Min Y:\", Y_min, \"Max Y:\", Y_max)\n",
    "\n",
    "X = (X - np.min(X)) / (np.max(X) - np.min(X))\n",
    "Y = (Y - np.min(Y)) / (np.max(Y) - np.min(Y))\n",
    "\n",
    "# ---------------------------------------\n",
    "# 🔹 6. Inicializar pesos y sesgos (VARIABLES GLOBALES)\n",
    "w1, w2, w3, w4, w5 = np.random.uniform(-0.5, 0.5, 5)\n",
    "b2, b4, b5, b_out = np.random.uniform(-0.5, 0.5, 4)\n",
    "w_out1, w_out2 = np.random.randn(), np.random.randn()  # Pesos de salida\n",
    "alpha = 0.05  # Tasa de aprendizaje\n",
    "\n",
    "# 🔹 7. Función de activación (sigmoide) y su derivada\n",
    "def sigmoid(z):\n",
    "    z = np.clip(z, -500, 500)  # Evita valores extremos\n",
    "    return 1 / (1 + np.exp(-z))\n",
    "\n",
    "\n",
    "def sigmoid_derivative(a):\n",
    "    return a * (1 - a)  # Usa la salida de sigmoide directamente\n",
    "\n",
    "# ---------------------------------------\n",
    "# 🔹 8. Forward propagation\n",
    "def forward(x):\n",
    "    global w1, w2, w3, w4, w5, b2, b4, b5, b_out, w_out1, w_out2\n",
    "\n",
    "    z2 = np.dot(x, w2) + b2\n",
    "    a2 = sigmoid(z2)\n",
    "\n",
    "    z4 = np.dot(x, w4) + b4\n",
    "    a4 = sigmoid(z4)\n",
    "\n",
    "    z5 = np.dot(x, w5) + b5\n",
    "    a5 = sigmoid(z5)\n",
    "\n",
    "    y_hat = w_out1 * a2 + w_out2 * a4 + b_out\n",
    "    return y_hat, a2, a4, a5, z2, z4, z5\n",
    "\n",
    "# 🔹 9. Función de pérdida\n",
    "def loss(y_real, y_pred):\n",
    "    return 0.5 * (y_real - y_pred) ** 2\n",
    "\n",
    "# ---------------------------------------\n",
    "# 🔹 10. Backpropagation (ajuste de pesos y sesgos)\n",
    "def backward(x, y_real, y_pred, a2, a4, a5, z2, z4, z5):\n",
    "    global w1, w2, w3, w4, w5, b2, b4, b5, b_out, w_out1, w_out2, alpha\n",
    "\n",
    "    error = y_pred - y_real\n",
    "\n",
    "    # Gradientes de la capa de salida\n",
    "    d_w_out1 = error * a2\n",
    "    d_w_out2 = error * a4\n",
    "    d_b_out = error\n",
    "\n",
    "    # Gradientes de la capa oculta\n",
    "    d_a2 = error * w_out1\n",
    "    d_a4 = error * w_out2\n",
    "\n",
    "    d_z2 = d_a2 * sigmoid_derivative(z2)\n",
    "    d_z4 = d_a4 * sigmoid_derivative(z4)\n",
    "\n",
    "    d_w2 = np.dot(x.T, d_z2)\n",
    "    d_w4 = np.dot(x.T, d_z4)\n",
    "\n",
    "    d_b2 = np.sum(d_z2)\n",
    "    d_b4 = np.sum(d_z4)\n",
    "\n",
    "    # 🔹 11. Actualización de pesos y sesgos\n",
    "    w_out1 -= alpha * d_w_out1\n",
    "    w_out2 -= alpha * d_w_out2\n",
    "    b_out -= alpha * d_b_out\n",
    "\n",
    "    w2 -= alpha * d_w2\n",
    "    w4 -= alpha * d_w4\n",
    "    b2 -= alpha * d_b2\n",
    "    b4 -= alpha * d_b4\n",
    "\n",
    "# ---------------------------------------\n",
    "# 🔹 12. Función de entrenamiento\n",
    "def train(X, Y, epochs=1000):\n",
    "    for epoch in range(epochs):\n",
    "        total_loss = 0\n",
    "        for x, y_real in zip(X, Y):\n",
    "            y_pred, a2, a4, a5, z2, z4, z5 = forward(x)\n",
    "            total_loss += loss(y_real, y_pred)\n",
    "            backward(x, y_real, y_pred, a2, a4, a5, z2, z4, z5)\n",
    "\n",
    "        if epoch % 100 == 0:\n",
    "            print(f\"Época {epoch}, Pérdida: {total_loss / len(X)}\")\n",
    "\n",
    "# ---------------------------------------\n",
    "# 🔹 13. ENTRENAR LA RED\n",
    "train(X, Y, epochs=1000)\n",
    "\n",
    "# 🔹 14. HACER UNA PREDICCIÓN\n",
    "test_value = np.array([[0.3, 0.4, 0.5, 0.6, 0.7]])  # Valores normalizados\n",
    "prediction, _, _, _, _, _, _ = forward(test_value)\n",
    "print(f\"Predicción para flujo de diciembre: {prediction}\")\n"
   ]
  },
  {
   "cell_type": "code",
   "execution_count": 28,
   "metadata": {},
   "outputs": [
    {
     "name": "stdout",
     "output_type": "stream",
     "text": [
      "Min X: 0.0 Max X: 1.0\n",
      "Min Y: nan Max Y: nan\n"
     ]
    }
   ],
   "source": [
    "X_min, X_max = np.min(X), np.max(X)\n",
    "Y_min, Y_max = np.min(Y), np.max(Y)\n",
    "\n",
    "X = (X - X_min) / (X_max - X_min)\n",
    "Y = (Y - Y_min) / (Y_max - Y_min)\n",
    "\n",
    "print(\"Min X:\", X_min, \"Max X:\", X_max)\n",
    "print(\"Min Y:\", Y_min, \"Max Y:\", Y_max)\n"
   ]
  },
  {
   "cell_type": "markdown",
   "metadata": {},
   "source": [
    "Variables globales como pesos y sesgos"
   ]
  }
 ],
 "metadata": {
  "kernelspec": {
   "display_name": "Python 3",
   "language": "python",
   "name": "python3"
  },
  "language_info": {
   "codemirror_mode": {
    "name": "ipython",
    "version": 3
   },
   "file_extension": ".py",
   "mimetype": "text/x-python",
   "name": "python",
   "nbconvert_exporter": "python",
   "pygments_lexer": "ipython3",
   "version": "3.11.5"
  }
 },
 "nbformat": 4,
 "nbformat_minor": 2
}

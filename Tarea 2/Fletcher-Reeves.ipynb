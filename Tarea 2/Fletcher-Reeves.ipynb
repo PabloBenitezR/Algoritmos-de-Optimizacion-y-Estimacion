{
 "cells": [
  {
   "cell_type": "code",
   "execution_count": 12,
   "metadata": {},
   "outputs": [],
   "source": [
    "import numpy as np"
   ]
  },
  {
   "cell_type": "code",
   "execution_count": 13,
   "metadata": {},
   "outputs": [],
   "source": [
    "mu1 = 0.10\n",
    "mu2 = 0.15\n",
    "sigma1 = 0.04\n",
    "sigma2 = 0.0625\n",
    "covar = 0.025\n",
    "x0 = np.array([0.0, 0.0])\n",
    "tol = 1e-8\n",
    "max_iter = 1000"
   ]
  },
  {
   "cell_type": "code",
   "execution_count": 14,
   "metadata": {},
   "outputs": [],
   "source": [
    "def U(x):\n",
    "    return mu1 * x[0] + mu2 * x[1] - 0.5 * (sigma1 * x[0]**2 + sigma2 * x[1]**2 + 2 * covar * x[0] * x[1])"
   ]
  },
  {
   "cell_type": "code",
   "execution_count": 15,
   "metadata": {},
   "outputs": [],
   "source": [
    "def gradiente(x):\n",
    "    dU_dx = mu1 - (sigma1 * x[0] + covar * x[1])\n",
    "    dU_dy = mu2 - (covar * x[0] + sigma2 * x[1])\n",
    "    return np.array([dU_dx, dU_dy])"
   ]
  },
  {
   "cell_type": "code",
   "execution_count": 16,
   "metadata": {},
   "outputs": [
    {
     "name": "stdout",
     "output_type": "stream",
     "text": [
      "Convergencia alcanzada en la iteración 83\n",
      "\n",
      "Solución:\n",
      "x = 1.3333330333027251 , y = 1.8666667587719696\n",
      "Utilidad U = 0.20666666666666525\n"
     ]
    }
   ],
   "source": [
    "def f(x):\n",
    "    return -U(x)  \n",
    "\n",
    "def grad_f(x):\n",
    "    return -gradiente(x)\n",
    "\n",
    "def FR(x0, tol, max_iter):\n",
    "    x = x0.copy()\n",
    "    g = grad_f(x)\n",
    "    d = -g  # dirección inicial\n",
    "    for i in range(max_iter):\n",
    "        # Búsqueda en línea: se utiliza un simple backtracking\n",
    "        alpha = 1.0\n",
    "        beta = 0.5\n",
    "        c = 1e-4\n",
    "        while f(x + alpha * d) > U(x) + c * alpha * np.dot(g, d):\n",
    "            alpha *= beta\n",
    "        x_new = x + alpha * d\n",
    "        g_new = grad_f(x_new)\n",
    "        if np.linalg.norm(g_new) < tol:\n",
    "            print(\"Convergencia alcanzada en la iteración\", i)\n",
    "            return x_new\n",
    "        beta_fr = np.dot(g_new, g_new) / np.dot(g, g)\n",
    "        d = -g_new + beta_fr * d\n",
    "        x = x_new\n",
    "        g = g_new\n",
    "    print(\" converge.\")\n",
    "    return x\n",
    "\n",
    "\n",
    "x_fr = FR(x0, tol, max_iter)\n",
    "\n",
    "\n",
    "\n",
    "print(\"\\nSolución:\")\n",
    "print(\"x =\", x_fr[0], \", y =\", x_fr[1])\n",
    "print(\"Utilidad U =\", U(x_fr))\n"
   ]
  }
 ],
 "metadata": {
  "kernelspec": {
   "display_name": "Python 3",
   "language": "python",
   "name": "python3"
  },
  "language_info": {
   "codemirror_mode": {
    "name": "ipython",
    "version": 3
   },
   "file_extension": ".py",
   "mimetype": "text/x-python",
   "name": "python",
   "nbconvert_exporter": "python",
   "pygments_lexer": "ipython3",
   "version": "3.11.5"
  }
 },
 "nbformat": 4,
 "nbformat_minor": 2
}

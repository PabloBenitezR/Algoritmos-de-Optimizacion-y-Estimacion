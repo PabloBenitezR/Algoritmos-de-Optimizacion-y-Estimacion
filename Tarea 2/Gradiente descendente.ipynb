{
 "cells": [
  {
   "cell_type": "code",
   "execution_count": 6,
   "metadata": {},
   "outputs": [],
   "source": [
    "import numpy as np"
   ]
  },
  {
   "cell_type": "code",
   "execution_count": 7,
   "metadata": {},
   "outputs": [],
   "source": [
    "lr = 0.001              # tasa de aprendizaje\n",
    "tol = 1e-6              # tolerancia\n",
    "epsilon = 1e-6          # epsilon de la diferenciación numérica\n",
    "max_iter = 10000        # número de iteraciones\n",
    "x_0 = np.array([1.0, 0.0, 0.0])"
   ]
  },
  {
   "cell_type": "code",
   "execution_count": 8,
   "metadata": {},
   "outputs": [],
   "source": [
    "def f(x):\n",
    "    x1, x2, x3 = x\n",
    "    if x1 > 0:\n",
    "        theta = (np.arctan2(x2, x1)) / (2 * np.pi)\n",
    "    if x1 < 0:\n",
    "        theta = (np.pi + np.arctan2(x2, x1)) / (2 * np.pi) \n",
    "\n",
    "    return 100 * (x3 - 10 * theta)**2 + 100 * (np.sqrt(x1**2 + x2**2) - 1)**2 + x3**2"
   ]
  },
  {
   "cell_type": "code",
   "execution_count": 9,
   "metadata": {},
   "outputs": [],
   "source": [
    "def f_aproximacion(x, epsilon):\n",
    "    grad = np.zeros_like(x)\n",
    "    for i in range(len(x)):\n",
    "        dx = np.zeros_like(x)\n",
    "        dx[i] = epsilon\n",
    "        grad[i] = (f(x + dx) - f(x - dx)) / (2 * epsilon)\n",
    "    return grad"
   ]
  },
  {
   "cell_type": "code",
   "execution_count": 10,
   "metadata": {},
   "outputs": [
    {
     "name": "stdout",
     "output_type": "stream",
     "text": [
      "Convergencia alcanzada en la iteración 0\n",
      "Mínimo encontrado en: [1. 0. 0.]\n",
      "Valor de f en el mínimo: 0.0\n"
     ]
    }
   ],
   "source": [
    "# Gradiente descentente (GD)\n",
    "def GD(x_0, lr, tol, max_iter):\n",
    "\n",
    "    x = x_0.copy()\n",
    "    historial = [x.copy()]\n",
    "    for i in range(max_iter):\n",
    "        grad = f_aproximacion(x, epsilon)\n",
    "        x_new = x - lr * grad\n",
    "        historial.append(x_new.copy())\n",
    "        # Criterio de convergencia: norma del cambio menor a la tolerancia\n",
    "        if np.linalg.norm(x_new - x) < tol:\n",
    "            print(\"Convergencia alcanzada en la iteración\", i)\n",
    "            break\n",
    "        x = x_new\n",
    "    return x, historial\n",
    "\n",
    "x_min, historial = GD(x_0, lr, tol, max_iter)\n",
    "\n",
    "print(\"Mínimo encontrado en:\", x_min)\n",
    "print(\"Valor de f en el mínimo:\", f(x_min))\n"
   ]
  }
 ],
 "metadata": {
  "kernelspec": {
   "display_name": "Python 3",
   "language": "python",
   "name": "python3"
  },
  "language_info": {
   "codemirror_mode": {
    "name": "ipython",
    "version": 3
   },
   "file_extension": ".py",
   "mimetype": "text/x-python",
   "name": "python",
   "nbconvert_exporter": "python",
   "pygments_lexer": "ipython3",
   "version": "3.12.9"
  }
 },
 "nbformat": 4,
 "nbformat_minor": 2
}

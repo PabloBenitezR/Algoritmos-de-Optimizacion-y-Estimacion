{
 "cells": [
  {
   "cell_type": "code",
   "execution_count": 49,
   "metadata": {},
   "outputs": [],
   "source": [
    "import numpy as np"
   ]
  },
  {
   "cell_type": "code",
   "execution_count": 50,
   "metadata": {},
   "outputs": [],
   "source": [
    "mu1 = 0.10\n",
    "mu2 = 0.15\n",
    "sigma1 = 0.04\n",
    "sigma2 = 0.0625\n",
    "covar = 0.025\n",
    "x0 = np.array([0.0, 0.0])\n",
    "tol = 1e-8\n",
    "max_iter = 1000"
   ]
  },
  {
   "cell_type": "code",
   "execution_count": 51,
   "metadata": {},
   "outputs": [],
   "source": [
    "def U(x):\n",
    "    return mu1 * x[0] + mu2 * x[1] - 0.5 * (sigma1 * x[0]**2 + sigma2 * x[1]**2 + 2 * covar * x[0] * x[1])"
   ]
  },
  {
   "cell_type": "code",
   "execution_count": 52,
   "metadata": {},
   "outputs": [],
   "source": [
    "def gradiente(x):\n",
    "    dU_dx = mu1 - (sigma1 * x[0] + covar * x[1])\n",
    "    dU_dy = mu2 - (covar * x[0] + sigma2 * x[1])\n",
    "    return np.array([dU_dx, dU_dy])"
   ]
  },
  {
   "cell_type": "code",
   "execution_count": 53,
   "metadata": {},
   "outputs": [],
   "source": [
    "def hessiano(x):\n",
    "    return -np.array([[sigma1, covar],\n",
    "                      [covar, sigma2]])"
   ]
  },
  {
   "cell_type": "code",
   "execution_count": 54,
   "metadata": {},
   "outputs": [],
   "source": [
    "def NR(x0, tol, max_iter):\n",
    "    x = x0.copy()\n",
    "    for i in range(max_iter):\n",
    "        g = gradiente(x)\n",
    "        H = hessiano(x)\n",
    "        delta = np.linalg.solve(H, g)\n",
    "        x_new = x - delta\n",
    "        if np.linalg.norm(x_new - x) < tol:\n",
    "            print(\"Convergencia alcanzada en la iteración\", i+1)\n",
    "            return x_new\n",
    "        x = x_new\n",
    "    print(\"no converge.\")\n",
    "    return x"
   ]
  },
  {
   "cell_type": "code",
   "execution_count": null,
   "metadata": {},
   "outputs": [
    {
     "name": "stdout",
     "output_type": "stream",
     "text": [
      "Convergencia alcanzada en la iteración 2\n",
      "Solución:\n",
      "x = 1.3333333333333335 , y = 1.8666666666666665\n",
      "Utilidad U = 0.20666666666666667\n"
     ]
    }
   ],
   "source": [
    "x_newton = NR(x0, tol, max_iter)\n",
    "print(\"Solución:\")\n",
    "print(\"x =\", x_newton[0], \", y =\", x_newton[1])\n",
    "print(\"Utilidad U =\", U(x_newton))"
   ]
  }
 ],
 "metadata": {
  "kernelspec": {
   "display_name": "Python 3",
   "language": "python",
   "name": "python3"
  },
  "language_info": {
   "codemirror_mode": {
    "name": "ipython",
    "version": 3
   },
   "file_extension": ".py",
   "mimetype": "text/x-python",
   "name": "python",
   "nbconvert_exporter": "python",
   "pygments_lexer": "ipython3",
   "version": "3.11.5"
  }
 },
 "nbformat": 4,
 "nbformat_minor": 2
}

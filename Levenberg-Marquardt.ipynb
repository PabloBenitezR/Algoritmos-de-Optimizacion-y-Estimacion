{
 "cells": [
  {
   "cell_type": "code",
   "execution_count": null,
   "metadata": {},
   "outputs": [],
   "source": [
    "import numpy as np"
   ]
  },
  {
   "cell_type": "code",
   "execution_count": null,
   "metadata": {},
   "outputs": [],
   "source": [
    "lr = 0.001              # tasa de aprendizaje\n",
    "tol = 1e-6              # tolerancia\n",
    "epsilon = 1e-6          # epsilon de la diferenciación numérica\n",
    "max_iter = 10000        # número de iteraciones\n",
    "#x_0 = np.array([1.0, 0.0, 0.0])"
   ]
  },
  {
   "cell_type": "code",
   "execution_count": null,
   "metadata": {},
   "outputs": [],
   "source": [
    "def f(x):\n",
    "    x1, x2, x3 = x\n",
    "    if x1 > 0:\n",
    "        theta = (np.arctan2(x2, x1)) / (2 * np.pi)\n",
    "    if x1 < 0:\n",
    "        theta = (np.pi + np.arctan2(x2, x1)) / (2 * np.pi) \n",
    "\n",
    "    return 100 * (x3 - 10 * theta)**2 + 100 * (np.sqrt(x1**2 + x2**2) - 1)**2 + x3**2"
   ]
  },
  {
   "cell_type": "code",
   "execution_count": null,
   "metadata": {},
   "outputs": [],
   "source": [
    "def f_aproximacion(x, epsilon):\n",
    "    grad = np.zeros_like(x)\n",
    "    for i in range(len(x)):\n",
    "        dx = np.zeros_like(x)\n",
    "        dx[i] = epsilon\n",
    "        grad[i] = (f(x + dx) - f(x - dx)) / (2 * epsilon)\n",
    "    return grad"
   ]
  },
  {
   "cell_type": "code",
   "execution_count": null,
   "metadata": {},
   "outputs": [],
   "source": [
    "def hessiano_f(x, eps):\n",
    "    n = len(x)\n",
    "    H = np.zeros((n, n))\n",
    "    for i in range(n):\n",
    "        for j in range(n):\n",
    "            dx_i = np.zeros(n)\n",
    "            dx_j = np.zeros(n)\n",
    "            dx_i[i] = eps\n",
    "            dx_j[j] = eps\n",
    "            f_pp = f(x + dx_i + dx_j)\n",
    "            f_pm = f(x + dx_i - dx_j)\n",
    "            f_mp = f(x - dx_i + dx_j)\n",
    "            f_mm = f(x - dx_i - dx_j)\n",
    "            H[i, j] = (f_pp - f_pm - f_mp + f_mm) / (4 * eps**2)\n",
    "    return H"
   ]
  },
  {
   "cell_type": "code",
   "execution_count": null,
   "metadata": {},
   "outputs": [
    {
     "name": "stdout",
     "output_type": "stream",
     "text": [
      "Convergencia alcanzada en la iteración 24\n",
      "Mínimo encontrado: [1.00000000e+00 1.50368425e-18 2.39742982e-18]\n",
      "Valor de f en el mínimo: 5.749469210957144e-36\n"
     ]
    }
   ],
   "source": [
    "def LM(x_0, lr, tol, max_iter, factor=10):\n",
    "    \"\"\"\n",
    "    Método de Newton amortiguado (similar a Levenberg–Marquardt pero sin mínimos cuadrados):\n",
    "      - x0: punto inicial.\n",
    "      - lambda_init: parámetro de amortiguamiento inicial.\n",
    "      - tol: tolerancia para convergencia.\n",
    "      - max_iter: número máximo de iteraciones.\n",
    "      - factor: factor de ajuste para lambda.\n",
    "    \"\"\"\n",
    "    x = x0.copy()\n",
    "    lamb = lambda_init\n",
    "    history = [x.copy()]\n",
    "    for i in range(max_iter):\n",
    "        grad = grad_f(x)\n",
    "        H = hessian_f(x)\n",
    "        A = H + lamb * np.eye(len(x))\n",
    "        try:\n",
    "            delta = np.linalg.solve(A, grad)\n",
    "        except np.linalg.LinAlgError:\n",
    "            print(\"Matriz singular encontrada.\")\n",
    "            break\n",
    "        \n",
    "        x_new = x - delta\n",
    "        \n",
    "        # Si se reduce el valor de la función, se acepta el paso y se reduce lambda.\n",
    "        if f(x_new) < f(x):\n",
    "            x = x_new\n",
    "            history.append(x.copy())\n",
    "            lamb /= factor\n",
    "        else:\n",
    "            lamb *= factor\n",
    "        \n",
    "        if np.linalg.norm(delta) < tol:\n",
    "            print(\"Convergencia alcanzada en la iteración\", i)\n",
    "            break\n",
    "    return x, history\n",
    "\n",
    "# Punto inicial: (-1, 0, 0)\n",
    "x0 = np.array([-1.0, 0.0, 0.0])\n",
    "x_min, hist = lm_newton(x0)\n",
    "\n",
    "print(\"Mínimo encontrado:\", x_min)\n",
    "print(\"Valor de f en el mínimo:\", f(x_min))\n"
   ]
  }
 ],
 "metadata": {
  "kernelspec": {
   "display_name": "Python 3",
   "language": "python",
   "name": "python3"
  },
  "language_info": {
   "codemirror_mode": {
    "name": "ipython",
    "version": 3
   },
   "file_extension": ".py",
   "mimetype": "text/x-python",
   "name": "python",
   "nbconvert_exporter": "python",
   "pygments_lexer": "ipython3",
   "version": "3.11.5"
  }
 },
 "nbformat": 4,
 "nbformat_minor": 2
}

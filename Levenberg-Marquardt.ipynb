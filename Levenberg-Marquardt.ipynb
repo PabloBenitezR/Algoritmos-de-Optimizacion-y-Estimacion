{
 "cells": [
  {
   "cell_type": "code",
   "execution_count": 54,
   "metadata": {},
   "outputs": [],
   "source": [
    "import numpy as np"
   ]
  },
  {
   "cell_type": "code",
   "execution_count": 55,
   "metadata": {},
   "outputs": [],
   "source": [
    "lr = 0.001              # tasa de aprendizaje\n",
    "tol = 1e-6              # tolerancia\n",
    "epsilon = 1e-6          # epsilon de la diferenciación numérica\n",
    "max_iter = 10000        # número de iteraciones\n",
    "#x_0 = np.array([1.0, 0.0, 0.0])"
   ]
  },
  {
   "cell_type": "code",
   "execution_count": 56,
   "metadata": {},
   "outputs": [],
   "source": [
    "def f(x):\n",
    "    x1, x2, x3 = x\n",
    "    if x1 > 0:\n",
    "        theta = (np.arctan2(x2, x1)) / (2 * np.pi)\n",
    "    if x1 < 0:\n",
    "        theta = (np.pi + np.arctan2(x2, x1)) / (2 * np.pi) \n",
    "\n",
    "    r_vec = np.zeros(3)    \n",
    "\n",
    "    r_vec[0] = 10 * (x3 - 10*theta) \n",
    "    r_vec[1] = 10 * (np.sqrt(x1**2 + x2**2) - 1)\n",
    "    r_vec[2] = x3    \n",
    "\n",
    "    return r_vec"
   ]
  },
  {
   "cell_type": "code",
   "execution_count": 57,
   "metadata": {},
   "outputs": [],
   "source": [
    "def jacobiano(x, epsilon):\n",
    "\n",
    "    n = len(x)\n",
    "    r_0 = f(x)\n",
    "    m = len(r_0)\n",
    "    J = np.zeros((m, n))\n",
    "    for j in range(n):\n",
    "        dx = np.zeros_like(x)\n",
    "        dx[j] = epsilon\n",
    "        r_adelante = f(x + dx)\n",
    "        r_atras = f(x - dx)\n",
    "        J[:, j] = (r_adelante - r_atras) / (2 * epsilon)\n",
    "    return J"
   ]
  },
  {
   "cell_type": "code",
   "execution_count": 58,
   "metadata": {},
   "outputs": [],
   "source": [
    "def LM(x0, lr, tol, max_iter):\n",
    "    x = x0.copy()\n",
    "    lamb = lr\n",
    "    historial = [x.copy()]\n",
    "    \n",
    "    for i in range(max_iter):\n",
    "        r = f(x)\n",
    "        cost = np.sum(r**2)\n",
    "        J = jacobiano(x, epsilon)\n",
    "        A = J.T @ J + lamb * np.eye(len(x))\n",
    "        g = J.T @ r\n",
    "        \n",
    "        try:\n",
    "            delta = np.linalg.solve(A, g)\n",
    "        except np.linalg.LinAlgError:\n",
    "            break\n",
    "        \n",
    "        x_new = x - delta\n",
    "        r_new = f(x_new)\n",
    "        cost_new = np.sum(r_new**2)\n",
    "        \n",
    "        \n",
    "        if cost_new < cost:\n",
    "            x = x_new\n",
    "            historial.append(x.copy())\n",
    "            lamb = lamb / 2\n",
    "        else:\n",
    "            lamb = lamb * 2\n",
    "        \n",
    "        if np.linalg.norm(delta) < tol:\n",
    "            print(\"Convergencia alcanzada en la iteración\", i)\n",
    "            break\n",
    "            \n",
    "    return x, historial"
   ]
  },
  {
   "cell_type": "code",
   "execution_count": 59,
   "metadata": {},
   "outputs": [
    {
     "name": "stdout",
     "output_type": "stream",
     "text": [
      "Convergencia alcanzada en la iteración 2\n",
      "Mínimo encontrado: [-1.00000000e+00 -3.98455252e-10  6.27879613e-10]\n",
      "Valor de f en el mínimo: 3.9857789579256622e-19\n"
     ]
    }
   ],
   "source": [
    "x_0 = np.array([-1.0, 0.0, 0.0])\n",
    "x_min, hist = LM(x_0, lr, tol, max_iter)\n",
    "\n",
    "f_val = np.sum(f(x_min)**2)\n",
    "\n",
    "print(\"Mínimo encontrado:\", x_min)\n",
    "print(\"Valor de f en el mínimo:\", f_val)"
   ]
  }
 ],
 "metadata": {
  "kernelspec": {
   "display_name": "Python 3",
   "language": "python",
   "name": "python3"
  },
  "language_info": {
   "codemirror_mode": {
    "name": "ipython",
    "version": 3
   },
   "file_extension": ".py",
   "mimetype": "text/x-python",
   "name": "python",
   "nbconvert_exporter": "python",
   "pygments_lexer": "ipython3",
   "version": "3.11.5"
  }
 },
 "nbformat": 4,
 "nbformat_minor": 2
}

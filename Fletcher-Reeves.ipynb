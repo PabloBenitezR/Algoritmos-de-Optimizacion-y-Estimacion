{
 "cells": [
  {
   "cell_type": "code",
   "execution_count": 1,
   "metadata": {},
   "outputs": [],
   "source": [
    "import numpy as np"
   ]
  },
  {
   "cell_type": "code",
   "execution_count": 2,
   "metadata": {},
   "outputs": [],
   "source": [
    "mu1 = 0.10\n",
    "mu2 = 0.15\n",
    "sigma1 = 0.04\n",
    "sigma2 = 0.0625\n",
    "covar = 0.025\n",
    "x0 = np.array([0.0, 0.0])\n",
    "tol = 1e-8\n",
    "max_iter = 1000"
   ]
  },
  {
   "cell_type": "code",
   "execution_count": 3,
   "metadata": {},
   "outputs": [],
   "source": [
    "def U(x):\n",
    "    return mu1 * x[0] + mu2 * x[1] - 0.5 * (sigma1 * x[0]**2 + sigma2 * x[1]**2 + 2 * covar * x[0] * x[1])"
   ]
  },
  {
   "cell_type": "code",
   "execution_count": 4,
   "metadata": {},
   "outputs": [],
   "source": [
    "def gradiente(x):\n",
    "    dU_dx = mu1 - (sigma1 * x[0] + covar * x[1])\n",
    "    dU_dy = mu2 - (covar * x[0] + sigma2 * x[1])\n",
    "    return np.array([dU_dx, dU_dy])"
   ]
  },
  {
   "cell_type": "code",
   "execution_count": 5,
   "metadata": {},
   "outputs": [],
   "source": [
    "def hessiano(x):\n",
    "    return -np.array([[sigma1, covar],\n",
    "                      [covar, sigma2]])"
   ]
  },
  {
   "cell_type": "code",
   "execution_count": 6,
   "metadata": {},
   "outputs": [
    {
     "name": "stdout",
     "output_type": "stream",
     "text": [
      "Fletcher–Reeves convergió en 84 iteraciones.\n",
      "\n",
      "Solución mediante Fletcher-Reeves:\n",
      "x = 1.3333330333027251 , y = 1.8666667587719696\n",
      "Utilidad U = 0.20666666666666525\n"
     ]
    }
   ],
   "source": [
    "def f(x):\n",
    "    return -U(x)  # objetivo a minimizar\n",
    "\n",
    "def grad_f(x):\n",
    "    return -gradiente(x)\n",
    "\n",
    "def fletcher_reeves(x0, tol=1e-8, max_iter=100):\n",
    "    x = x0.copy()\n",
    "    g = grad_f(x)\n",
    "    d = -g  # dirección inicial\n",
    "    for i in range(max_iter):\n",
    "        # Búsqueda en línea: se utiliza un simple backtracking\n",
    "        alpha = 1.0\n",
    "        beta = 0.5\n",
    "        c = 1e-4\n",
    "        while f(x + alpha * d) > U(x) + c * alpha * np.dot(g, d):\n",
    "            alpha *= beta\n",
    "        x_new = x + alpha * d\n",
    "        g_new = grad_f(x_new)\n",
    "        if np.linalg.norm(g_new) < tol:\n",
    "            print(f\"Fletcher–Reeves convergió en {i+1} iteraciones.\")\n",
    "            return x_new\n",
    "        beta_fr = np.dot(g_new, g_new) / np.dot(g, g)\n",
    "        d = -g_new + beta_fr * d\n",
    "        x = x_new\n",
    "        g = g_new\n",
    "    print(\"FletcherReeves no convergió.\")\n",
    "    return x\n",
    "\n",
    "##############################################\n",
    "# Ejecución de los métodos\n",
    "##############################################\n",
    "\n",
    "\n",
    "\n",
    "# Solución usando Fletcher–Reeves (minimizando -U)\n",
    "x_fr = fletcher_reeves(x0)\n",
    "\n",
    "\n",
    "\n",
    "print(\"\\nSolución mediante Fletcher-Reeves:\")\n",
    "print(\"x =\", x_fr[0], \", y =\", x_fr[1])\n",
    "print(\"Utilidad U =\", U(x_fr))\n"
   ]
  }
 ],
 "metadata": {
  "kernelspec": {
   "display_name": "Python 3",
   "language": "python",
   "name": "python3"
  },
  "language_info": {
   "codemirror_mode": {
    "name": "ipython",
    "version": 3
   },
   "file_extension": ".py",
   "mimetype": "text/x-python",
   "name": "python",
   "nbconvert_exporter": "python",
   "pygments_lexer": "ipython3",
   "version": "3.11.5"
  }
 },
 "nbformat": 4,
 "nbformat_minor": 2
}
